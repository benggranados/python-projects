{
  "nbformat": 4,
  "nbformat_minor": 0,
  "metadata": {
    "colab": {
      "provenance": []
    },
    "kernelspec": {
      "name": "python3",
      "display_name": "Python 3"
    },
    "language_info": {
      "name": "python"
    }
  },
  "cells": [
    {
      "cell_type": "code",
      "source": [
        "import pandas as pd\n",
        "import numpy as np"
      ],
      "metadata": {
        "id": "fagUnKJrbQg8"
      },
      "execution_count": null,
      "outputs": []
    },
    {
      "cell_type": "code",
      "execution_count": null,
      "metadata": {
        "colab": {
          "base_uri": "https://localhost:8080/"
        },
        "id": "KipftaZTZe-Q",
        "outputId": "eb0062d6-bb42-4990-9a4c-70591716b05f"
      },
      "outputs": [
        {
          "output_type": "stream",
          "name": "stdout",
          "text": [
            "Final Portfolio Value: 9962.306833760893\n",
            "            timestamp action       price          cash  position\n",
            "0 2024-01-01 09:30:00   hold  100.496714  10000.000000         0\n",
            "1 2024-01-01 09:31:00   hold  100.358450  10000.000000         0\n",
            "2 2024-01-01 09:32:00    buy  101.006138   9898.993862         1\n",
            "3 2024-01-01 09:33:00    buy  102.529168   9796.464693         2\n",
            "4 2024-01-01 09:34:00   hold  102.295015   9796.464693         2\n"
          ]
        },
        {
          "output_type": "stream",
          "name": "stderr",
          "text": [
            "<ipython-input-2-3a17f72c0577>:4: FutureWarning: 'T' is deprecated and will be removed in a future version, please use 'min' instead.\n",
            "  \"timestamp\": pd.date_range(start=\"2024-01-01 09:30:00\", periods=100, freq=\"T\"),\n"
          ]
        }
      ],
      "source": [
        "# Step 1: Simulate observed trades from another venue\n",
        "np.random.seed(42)\n",
        "trade_data = pd.DataFrame({\n",
        "    \"timestamp\": pd.date_range(start=\"2024-01-01 09:30:00\", periods=100, freq=\"T\"),\n",
        "    \"price\": np.cumsum(np.random.normal(0, 1, 100)) + 100,  # Random walk around 100\n",
        "    \"volume\": np.random.randint(1, 100, 100)\n",
        "})\n",
        "\n",
        "# Step 2: Define a strategy to detect directional changes\n",
        "def detect_signal(data, threshold=0.5):\n",
        "    data[\"price_change\"] = data[\"price\"].diff()\n",
        "    data[\"signal\"] = np.where(data[\"price_change\"] > threshold, \"buy\",\n",
        "                              np.where(data[\"price_change\"] < -threshold, \"sell\", \"hold\"))\n",
        "    return data\n",
        "\n",
        "# Step 3: Simulate taking trades on IEX\n",
        "def execute_trades(data, initial_cash=10000):\n",
        "    cash = initial_cash\n",
        "    position = 0  # Number of shares held\n",
        "    trade_log = []\n",
        "\n",
        "    for _, row in data.iterrows():\n",
        "        if row[\"signal\"] == \"buy\":\n",
        "            position += 1\n",
        "            cash -= row[\"price\"]  # Removing liquidity means paying market price\n",
        "            trade_log.append((row[\"timestamp\"], \"buy\", row[\"price\"], cash, position))\n",
        "        elif row[\"signal\"] == \"sell\" and position > 0:\n",
        "            position -= 1\n",
        "            cash += row[\"price\"]\n",
        "            trade_log.append((row[\"timestamp\"], \"sell\", row[\"price\"], cash, position))\n",
        "        else:\n",
        "            trade_log.append((row[\"timestamp\"], \"hold\", row[\"price\"], cash, position))\n",
        "\n",
        "    trade_df = pd.DataFrame(trade_log, columns=[\"timestamp\", \"action\", \"price\", \"cash\", \"position\"])\n",
        "    return trade_df, cash + position * data.iloc[-1][\"price\"]\n",
        "\n",
        "# Execute the strategy\n",
        "trade_data = detect_signal(trade_data)\n",
        "trade_log, final_portfolio_value = execute_trades(trade_data)\n",
        "\n",
        "# Output results\n",
        "print(\"Final Portfolio Value:\", final_portfolio_value)\n",
        "print(trade_log.head())"
      ]
    }
  ]
}